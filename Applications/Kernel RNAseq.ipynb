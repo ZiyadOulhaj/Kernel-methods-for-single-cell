{
 "cells": [
  {
   "cell_type": "code",
   "execution_count": 50,
   "id": "c5a9b8bd",
   "metadata": {},
   "outputs": [],
   "source": [
    "# %load \"C:\\Users\\Ziyad\\Desktop\\Kernel_methods\\kernel.py\"\n",
    "from math import exp, sqrt\n",
    "import numpy.linalg as npl\n",
    "import numpy as np\n",
    "import matplotlib.pyplot as plt\n",
    "from sklearn.cluster import KMeans\n",
    "\n",
    "def Gk_image(x,t,sigma=1):\n",
    "    \"\"\"\n",
    "    For real vectors x and t returns their image by the\n",
    "    gaussian kernel\n",
    "    \n",
    "    Parameters\n",
    "    ----------\n",
    "    x : array like - 1D array\n",
    "    t : array like - 1D array\n",
    "    \n",
    "    Returns\n",
    "    -------\n",
    "    y : float\n",
    "\n",
    "    \"\"\"\n",
    "    y=exp(-npl.norm(x-t)**2/sigma**2)\n",
    "    \n",
    "    return y\n",
    "#--------------------------------------------------------\n",
    "\n",
    "def Gk_distance(x,y,sigma=1):\n",
    "    \"\"\"\n",
    "    for real vectors x and y computes the distance\n",
    "    between their images in the gaussian kernel Hilbert \n",
    "    space \n",
    "\n",
    "    Parameters\n",
    "    ----------\n",
    "    x : array like - 1D array\n",
    "    y : array like - 1D array\n",
    "\n",
    "    Returns\n",
    "    -------\n",
    "    d : float\n",
    "\n",
    "    \"\"\"\n",
    "    d=sqrt(2*(1-Gk_image(x,y,sigma)))\n",
    "    return d\n",
    "\n",
    "#--------------------------------------------------------\n",
    "\n",
    "def Gk_gram_matrix(x,sigma=1):\n",
    "    \"\"\"\n",
    "    for a dataset x return the matrix A that has for \n",
    "    entries A(i,j) = the image of the i line and the j\n",
    "    line by the gaussian kernel\n",
    "    \n",
    "    Parameters\n",
    "    ----------\n",
    "    x : array like - 2D array\n",
    "\n",
    "    Returns\n",
    "    -------\n",
    "    y : array like - 2D array\n",
    "\n",
    "    \"\"\"\n",
    "    (n,p)=x.shape\n",
    "    \n",
    "    y=np.zeros((n,n))\n",
    "    for i in range(n):\n",
    "        for j in range(i,n):\n",
    "            l=x[i,:]\n",
    "            m=x[j,:]\n",
    "            y[i][j]=Gk_image(l,m,sigma)\n",
    "    y=y + y.T - np.diag(y.diagonal())\n",
    "    return y\n",
    "\n",
    "#--------------------------------------------------------\n",
    "\n",
    "class Gk_PCA:\n",
    "    \n",
    "    \n",
    "    def __init__(self,dataset,sigma=1):\n",
    "        self.sigma=sigma\n",
    "        self.dataset=dataset\n",
    "        self.K=np.zeros(dataset.shape)\n",
    "        self.directions=[]\n",
    "        self.explained_variance=[]\n",
    "        \n",
    "    def compute_gram_matrix(self):\n",
    "        self.K=Gk_gram_matrix(self.dataset,self.sigma)\n",
    "        \n",
    "    def compute_directions(self):\n",
    "        \n",
    "        ## Centered Gram matrix\n",
    "        n=self.K.shape[0]\n",
    "        m=np.ones((n,n))/n\n",
    "        i=np.eye(n)\n",
    "        self.K_c=(i-m) @ self.K @ (i-m)\n",
    "        \n",
    "        ## Eigenvalues\n",
    "        w,v=npl.eigh(self.K_c)\n",
    "        order=np.argsort(-w)\n",
    "        w=w[order]\n",
    "        v=v[:,order]\n",
    "        i=0\n",
    "        while w[i]>=0:\n",
    "            i=i+1\n",
    "        w=w[0:i]\n",
    "        v=v[:,0:i]\n",
    "        \n",
    "        #Directions\n",
    "        D=np.zeros((n,i))\n",
    "        for j in range (i):\n",
    "            D[:,j]=v[:,j]/sqrt(w[j])\n",
    "        \n",
    "        self.directions=D\n",
    "        \n",
    "        #Explained_variance\n",
    "        for j in range (i):\n",
    "            self.explained_variance.append(1/n*D[:,j].T\n",
    "                @ self.K_c @ self.K_c @ D[:,j])\n",
    "        \n",
    "        \n",
    "        \n",
    "    def reduce(self):\n",
    "        return self.K_c @ self.directions\n",
    "    \n",
    "    def scree_plot(self):\n",
    "        x = np.arange(len(self.explained_variance))+1\n",
    "        plt.plot(x, self.explained_variance, 'o-', linewidth=2, color='blue')\n",
    "        plt.title('Scree Plot')\n",
    "        plt.xlabel('Principal Component')\n",
    "        plt.ylabel('Variance Explained')\n",
    "        plt.show()\n",
    "        \n",
    "    def plot(self):\n",
    "        x=self.reduce()\n",
    "        plt.scatter(x[:,0],x[:,1])\n",
    "        plt.xlabel('First component')\n",
    "        plt.ylabel('Second component')\n",
    "        plt.show()\n",
    "                \n",
    "            \n",
    "#--------------------------------------------------------\n",
    "\n",
    "class Gk_SpectralClustering :\n",
    "    \n",
    "    def __init__(self,nb_clusters,dataset,sigma=1):\n",
    "        self.k=nb_clusters\n",
    "        self.dataset=dataset\n",
    "        self.sigma=sigma\n",
    "        \n",
    "    def compute_gram_matrix(self):\n",
    "        self.K=Gk_gram_matrix(self.dataset,self.sigma)\n",
    "        \n",
    "    def compute_clusters(self):\n",
    "        ## Centered Gram matrix\n",
    "        n=self.K.shape[0]\n",
    "        m=np.ones((n,n))/n\n",
    "        i=np.eye(n)\n",
    "        self.K_c=(i-m) @ self.K @ (i-m)\n",
    "        \n",
    "        ## Eigenvalues\n",
    "        w,v=npl.eigh(self.K_c)\n",
    "        order=np.argsort(-w)\n",
    "        w=w[order]\n",
    "        v=v[:,order]\n",
    "        self.Z=v[:,0:self.k]\n",
    "        \n",
    "        ## Normalize Z\n",
    "        A=self.Z\n",
    "        norm=npl.norm(A,axis=1)\n",
    "        for i in range(n):\n",
    "            A[i,:]=A[i,:]/norm[i]\n",
    "        \n",
    "        ## Regular KMeans to A\n",
    "        km=KMeans(n_clusters=self.k)\n",
    "        return(km.fit_predict(A))"
   ]
  },
  {
   "cell_type": "markdown",
   "id": "81bcf809",
   "metadata": {},
   "source": [
    "# Importation des données "
   ]
  },
  {
   "cell_type": "code",
   "execution_count": 51,
   "id": "1a969255",
   "metadata": {},
   "outputs": [],
   "source": [
    "import pandas as pd"
   ]
  },
  {
   "cell_type": "code",
   "execution_count": 52,
   "id": "6b5b5ce2",
   "metadata": {},
   "outputs": [],
   "source": [
    "df=pd.read_csv(r\"C:\\Users\\Ziyad\\Desktop\\Kernel_methods\\Dataset\\Count_Matrix.txt\",index_col=0)"
   ]
  },
  {
   "cell_type": "code",
   "execution_count": 53,
   "id": "0c8c0eb4",
   "metadata": {},
   "outputs": [
    {
     "data": {
      "text/html": [
       "<div>\n",
       "<style scoped>\n",
       "    .dataframe tbody tr th:only-of-type {\n",
       "        vertical-align: middle;\n",
       "    }\n",
       "\n",
       "    .dataframe tbody tr th {\n",
       "        vertical-align: top;\n",
       "    }\n",
       "\n",
       "    .dataframe thead th {\n",
       "        text-align: right;\n",
       "    }\n",
       "</style>\n",
       "<table border=\"1\" class=\"dataframe\">\n",
       "  <thead>\n",
       "    <tr style=\"text-align: right;\">\n",
       "      <th></th>\n",
       "      <th>Itm2a</th>\n",
       "      <th>Sergef</th>\n",
       "      <th>Chil5</th>\n",
       "      <th>Fam109a</th>\n",
       "      <th>Dhx9</th>\n",
       "      <th>Ssu72</th>\n",
       "      <th>Olfr1018</th>\n",
       "      <th>Fam71e2</th>\n",
       "      <th>Eif2b2</th>\n",
       "      <th>1700061E18Rik</th>\n",
       "      <th>...</th>\n",
       "      <th>Itgb1bp2</th>\n",
       "      <th>Olfr372</th>\n",
       "      <th>Ctsw</th>\n",
       "      <th>Gosr1</th>\n",
       "      <th>Ryk</th>\n",
       "      <th>Rhd</th>\n",
       "      <th>Pxmp4</th>\n",
       "      <th>4930455C13Rik</th>\n",
       "      <th>Reg4</th>\n",
       "      <th>Prss39</th>\n",
       "    </tr>\n",
       "  </thead>\n",
       "  <tbody>\n",
       "    <tr>\n",
       "      <th>A1-P1-DG_S100_L001_R1_001</th>\n",
       "      <td>0.0</td>\n",
       "      <td>0.000</td>\n",
       "      <td>0.0</td>\n",
       "      <td>0.000</td>\n",
       "      <td>0.000</td>\n",
       "      <td>5.043</td>\n",
       "      <td>0.0</td>\n",
       "      <td>0.0</td>\n",
       "      <td>0.0</td>\n",
       "      <td>0.0</td>\n",
       "      <td>...</td>\n",
       "      <td>0.000</td>\n",
       "      <td>0.0</td>\n",
       "      <td>0.0</td>\n",
       "      <td>0.00</td>\n",
       "      <td>0.000</td>\n",
       "      <td>0.0</td>\n",
       "      <td>3.214</td>\n",
       "      <td>0.000</td>\n",
       "      <td>0.0</td>\n",
       "      <td>0.0</td>\n",
       "    </tr>\n",
       "    <tr>\n",
       "      <th>A1-P1-DG_S101_L001_R1_001</th>\n",
       "      <td>0.0</td>\n",
       "      <td>7.092</td>\n",
       "      <td>0.0</td>\n",
       "      <td>0.000</td>\n",
       "      <td>3.096</td>\n",
       "      <td>0.000</td>\n",
       "      <td>0.0</td>\n",
       "      <td>0.0</td>\n",
       "      <td>0.0</td>\n",
       "      <td>0.0</td>\n",
       "      <td>...</td>\n",
       "      <td>0.000</td>\n",
       "      <td>0.0</td>\n",
       "      <td>0.0</td>\n",
       "      <td>6.96</td>\n",
       "      <td>0.000</td>\n",
       "      <td>0.0</td>\n",
       "      <td>0.000</td>\n",
       "      <td>0.000</td>\n",
       "      <td>0.0</td>\n",
       "      <td>0.0</td>\n",
       "    </tr>\n",
       "    <tr>\n",
       "      <th>A1-P1-DG_S102_L001_R1_001</th>\n",
       "      <td>0.0</td>\n",
       "      <td>0.000</td>\n",
       "      <td>0.0</td>\n",
       "      <td>4.205</td>\n",
       "      <td>4.599</td>\n",
       "      <td>6.439</td>\n",
       "      <td>0.0</td>\n",
       "      <td>0.0</td>\n",
       "      <td>0.0</td>\n",
       "      <td>0.0</td>\n",
       "      <td>...</td>\n",
       "      <td>0.000</td>\n",
       "      <td>0.0</td>\n",
       "      <td>0.0</td>\n",
       "      <td>0.00</td>\n",
       "      <td>0.000</td>\n",
       "      <td>0.0</td>\n",
       "      <td>0.000</td>\n",
       "      <td>0.000</td>\n",
       "      <td>0.0</td>\n",
       "      <td>0.0</td>\n",
       "    </tr>\n",
       "    <tr>\n",
       "      <th>A1-P1-DG_S103_L001_R1_001</th>\n",
       "      <td>0.0</td>\n",
       "      <td>7.511</td>\n",
       "      <td>0.0</td>\n",
       "      <td>0.000</td>\n",
       "      <td>0.000</td>\n",
       "      <td>0.000</td>\n",
       "      <td>0.0</td>\n",
       "      <td>0.0</td>\n",
       "      <td>0.0</td>\n",
       "      <td>0.0</td>\n",
       "      <td>...</td>\n",
       "      <td>0.000</td>\n",
       "      <td>0.0</td>\n",
       "      <td>0.0</td>\n",
       "      <td>0.00</td>\n",
       "      <td>0.000</td>\n",
       "      <td>0.0</td>\n",
       "      <td>0.000</td>\n",
       "      <td>0.000</td>\n",
       "      <td>0.0</td>\n",
       "      <td>0.0</td>\n",
       "    </tr>\n",
       "    <tr>\n",
       "      <th>A1-P1-DG_S104_L001_R1_001</th>\n",
       "      <td>0.0</td>\n",
       "      <td>6.803</td>\n",
       "      <td>0.0</td>\n",
       "      <td>0.000</td>\n",
       "      <td>4.118</td>\n",
       "      <td>0.000</td>\n",
       "      <td>0.0</td>\n",
       "      <td>0.0</td>\n",
       "      <td>0.0</td>\n",
       "      <td>0.0</td>\n",
       "      <td>...</td>\n",
       "      <td>7.021</td>\n",
       "      <td>0.0</td>\n",
       "      <td>0.0</td>\n",
       "      <td>0.00</td>\n",
       "      <td>6.392</td>\n",
       "      <td>0.0</td>\n",
       "      <td>3.945</td>\n",
       "      <td>5.005</td>\n",
       "      <td>0.0</td>\n",
       "      <td>0.0</td>\n",
       "    </tr>\n",
       "  </tbody>\n",
       "</table>\n",
       "<p>5 rows × 25392 columns</p>\n",
       "</div>"
      ],
      "text/plain": [
       "                           Itm2a  Sergef  Chil5  Fam109a   Dhx9  Ssu72  \\\n",
       "A1-P1-DG_S100_L001_R1_001    0.0   0.000    0.0    0.000  0.000  5.043   \n",
       "A1-P1-DG_S101_L001_R1_001    0.0   7.092    0.0    0.000  3.096  0.000   \n",
       "A1-P1-DG_S102_L001_R1_001    0.0   0.000    0.0    4.205  4.599  6.439   \n",
       "A1-P1-DG_S103_L001_R1_001    0.0   7.511    0.0    0.000  0.000  0.000   \n",
       "A1-P1-DG_S104_L001_R1_001    0.0   6.803    0.0    0.000  4.118  0.000   \n",
       "\n",
       "                           Olfr1018  Fam71e2  Eif2b2  1700061E18Rik  ...  \\\n",
       "A1-P1-DG_S100_L001_R1_001       0.0      0.0     0.0            0.0  ...   \n",
       "A1-P1-DG_S101_L001_R1_001       0.0      0.0     0.0            0.0  ...   \n",
       "A1-P1-DG_S102_L001_R1_001       0.0      0.0     0.0            0.0  ...   \n",
       "A1-P1-DG_S103_L001_R1_001       0.0      0.0     0.0            0.0  ...   \n",
       "A1-P1-DG_S104_L001_R1_001       0.0      0.0     0.0            0.0  ...   \n",
       "\n",
       "                           Itgb1bp2  Olfr372  Ctsw  Gosr1    Ryk  Rhd  Pxmp4  \\\n",
       "A1-P1-DG_S100_L001_R1_001     0.000      0.0   0.0   0.00  0.000  0.0  3.214   \n",
       "A1-P1-DG_S101_L001_R1_001     0.000      0.0   0.0   6.96  0.000  0.0  0.000   \n",
       "A1-P1-DG_S102_L001_R1_001     0.000      0.0   0.0   0.00  0.000  0.0  0.000   \n",
       "A1-P1-DG_S103_L001_R1_001     0.000      0.0   0.0   0.00  0.000  0.0  0.000   \n",
       "A1-P1-DG_S104_L001_R1_001     7.021      0.0   0.0   0.00  6.392  0.0  3.945   \n",
       "\n",
       "                           4930455C13Rik  Reg4  Prss39  \n",
       "A1-P1-DG_S100_L001_R1_001          0.000   0.0     0.0  \n",
       "A1-P1-DG_S101_L001_R1_001          0.000   0.0     0.0  \n",
       "A1-P1-DG_S102_L001_R1_001          0.000   0.0     0.0  \n",
       "A1-P1-DG_S103_L001_R1_001          0.000   0.0     0.0  \n",
       "A1-P1-DG_S104_L001_R1_001          5.005   0.0     0.0  \n",
       "\n",
       "[5 rows x 25392 columns]"
      ]
     },
     "execution_count": 53,
     "metadata": {},
     "output_type": "execute_result"
    }
   ],
   "source": [
    "df.head()"
   ]
  },
  {
   "cell_type": "code",
   "execution_count": 54,
   "id": "3b57097d",
   "metadata": {},
   "outputs": [],
   "source": [
    "x=df.to_numpy()"
   ]
  },
  {
   "cell_type": "code",
   "execution_count": 55,
   "id": "193f613e",
   "metadata": {},
   "outputs": [
    {
     "data": {
      "text/plain": [
       "array([[0.   , 0.   , 0.   , ..., 0.   , 0.   , 0.   ],\n",
       "       [0.   , 7.092, 0.   , ..., 0.   , 0.   , 0.   ],\n",
       "       [0.   , 0.   , 0.   , ..., 0.   , 0.   , 0.   ],\n",
       "       ...,\n",
       "       [0.   , 0.   , 0.   , ..., 0.   , 0.   , 0.   ],\n",
       "       [0.   , 6.388, 4.15 , ..., 0.   , 0.   , 0.   ],\n",
       "       [0.   , 0.   , 0.   , ..., 0.   , 0.   , 0.   ]])"
      ]
     },
     "execution_count": 55,
     "metadata": {},
     "output_type": "execute_result"
    }
   ],
   "source": [
    "x"
   ]
  },
  {
   "cell_type": "code",
   "execution_count": 13,
   "id": "47fc05b3",
   "metadata": {},
   "outputs": [
    {
     "data": {
      "text/plain": [
       "(1402, 25392)"
      ]
     },
     "execution_count": 13,
     "metadata": {},
     "output_type": "execute_result"
    }
   ],
   "source": [
    "x.shape"
   ]
  },
  {
   "cell_type": "markdown",
   "id": "ac6ef708",
   "metadata": {},
   "source": [
    "# Kernel PCA"
   ]
  },
  {
   "cell_type": "code",
   "execution_count": 109,
   "id": "ce5877b0",
   "metadata": {},
   "outputs": [],
   "source": [
    "my_pca=Gk_PCA(dataset=x,sigma=100)"
   ]
  },
  {
   "cell_type": "code",
   "execution_count": 110,
   "id": "f86459d0",
   "metadata": {},
   "outputs": [],
   "source": [
    "import time\n",
    "t1=time.time()\n",
    "my_pca.compute_gram_matrix()\n",
    "t2=time.time()"
   ]
  },
  {
   "cell_type": "code",
   "execution_count": 111,
   "id": "635dc8b0",
   "metadata": {},
   "outputs": [
    {
     "data": {
      "text/plain": [
       "275.7493050098419"
      ]
     },
     "execution_count": 111,
     "metadata": {},
     "output_type": "execute_result"
    }
   ],
   "source": [
    "t2-t1"
   ]
  },
  {
   "cell_type": "code",
   "execution_count": 112,
   "id": "7223cd12",
   "metadata": {},
   "outputs": [],
   "source": [
    "my_pca.compute_directions()"
   ]
  },
  {
   "cell_type": "code",
   "execution_count": 113,
   "id": "8bae9e9e",
   "metadata": {},
   "outputs": [
    {
     "data": {
      "text/plain": [
       "array([[-1.02535006e-03,  1.02850794e-03, -1.16533405e-03, ...,\n",
       "         5.32882472e-05,  4.21980370e-05, -3.27233113e-06],\n",
       "       [-1.00871462e-03,  9.80455345e-04, -8.97637349e-04, ...,\n",
       "         1.25578503e-05, -1.63573202e-05,  4.78874721e-06],\n",
       "       [-1.01918151e-03,  9.89861684e-04, -9.50547491e-04, ...,\n",
       "         4.56249596e-07,  4.90936783e-06, -2.35249245e-06],\n",
       "       ...,\n",
       "       [-1.01818351e-03,  9.99248649e-04, -1.05535271e-03, ...,\n",
       "         8.39834136e-06,  1.51809584e-05,  1.74781659e-06],\n",
       "       [-1.02088930e-03,  9.96189474e-04, -1.03137703e-03, ...,\n",
       "         7.57050231e-06,  1.38547161e-05, -5.07407491e-07],\n",
       "       [-1.02737856e-03,  1.03945109e-03, -1.17593612e-03, ...,\n",
       "         1.27586542e-05,  3.55875412e-05, -1.78495583e-06]])"
      ]
     },
     "execution_count": 113,
     "metadata": {},
     "output_type": "execute_result"
    }
   ],
   "source": [
    "my_pca.reduce()"
   ]
  },
  {
   "cell_type": "code",
   "execution_count": 114,
   "id": "db388862",
   "metadata": {},
   "outputs": [
    {
     "data": {
      "image/png": "[encoded data removed]",
      "text/plain": [
       "<Figure size 432x288 with 1 Axes>"
      ]
     },
     "metadata": {
      "needs_background": "light"
     },
     "output_type": "display_data"
    }
   ],
   "source": [
    "my_pca.scree_plot()"
   ]
  },
  {
   "cell_type": "code",
   "execution_count": 115,
   "id": "1f6b42f4",
   "metadata": {},
   "outputs": [
    {
     "data": {
      "image/png": "[encoded data removed]",
      "text/plain": [
       "<Figure size 432x288 with 1 Axes>"
      ]
     },
     "metadata": {
      "needs_background": "light"
     },
     "output_type": "display_data"
    }
   ],
   "source": [
    "my_pca.plot()"
   ]
  },
  {
   "cell_type": "code",
   "execution_count": 56,
   "id": "80ae5fdc",
   "metadata": {},
   "outputs": [],
   "source": [
    "clusters=pd.read_csv(r\"C:\\Users\\Ziyad\\Desktop\\Kernel_methods\\Dataset\\CLUSTER_AND_SUBCLUSTER_INDEX.txt\",delim_whitespace=True)"
   ]
  },
  {
   "cell_type": "code",
   "execution_count": 57,
   "id": "83fe1a05",
   "metadata": {},
   "outputs": [],
   "source": [
    "clusters=clusters.drop(labels=0)"
   ]
  },
  {
   "cell_type": "code",
   "execution_count": 58,
   "id": "f9957109",
   "metadata": {},
   "outputs": [
    {
     "data": {
      "text/html": [
       "<div>\n",
       "<style scoped>\n",
       "    .dataframe tbody tr th:only-of-type {\n",
       "        vertical-align: middle;\n",
       "    }\n",
       "\n",
       "    .dataframe tbody tr th {\n",
       "        vertical-align: top;\n",
       "    }\n",
       "\n",
       "    .dataframe thead th {\n",
       "        text-align: right;\n",
       "    }\n",
       "</style>\n",
       "<table border=\"1\" class=\"dataframe\">\n",
       "  <thead>\n",
       "    <tr style=\"text-align: right;\">\n",
       "      <th></th>\n",
       "      <th>NAME</th>\n",
       "      <th>CLUSTER</th>\n",
       "      <th>SUB-CLUSTER</th>\n",
       "    </tr>\n",
       "  </thead>\n",
       "  <tbody>\n",
       "    <tr>\n",
       "      <th>1</th>\n",
       "      <td>A1-P1-DG_S100_L001_R1_001</td>\n",
       "      <td>DG</td>\n",
       "      <td>DG_Penk</td>\n",
       "    </tr>\n",
       "    <tr>\n",
       "      <th>2</th>\n",
       "      <td>A1-P1-DG_S101_L001_R1_001</td>\n",
       "      <td>DG</td>\n",
       "      <td>DG_Cck</td>\n",
       "    </tr>\n",
       "    <tr>\n",
       "      <th>3</th>\n",
       "      <td>A1-P1-DG_S102_L001_R1_001</td>\n",
       "      <td>GABAergic</td>\n",
       "      <td>Gad2_Sst</td>\n",
       "    </tr>\n",
       "    <tr>\n",
       "      <th>4</th>\n",
       "      <td>A1-P1-DG_S103_L001_R1_001</td>\n",
       "      <td>DG</td>\n",
       "      <td>DG_Cck</td>\n",
       "    </tr>\n",
       "    <tr>\n",
       "      <th>5</th>\n",
       "      <td>A1-P1-DG_S104_L001_R1_001</td>\n",
       "      <td>DG</td>\n",
       "      <td>DG_Penk</td>\n",
       "    </tr>\n",
       "  </tbody>\n",
       "</table>\n",
       "</div>"
      ],
      "text/plain": [
       "                        NAME    CLUSTER SUB-CLUSTER\n",
       "1  A1-P1-DG_S100_L001_R1_001         DG     DG_Penk\n",
       "2  A1-P1-DG_S101_L001_R1_001         DG      DG_Cck\n",
       "3  A1-P1-DG_S102_L001_R1_001  GABAergic    Gad2_Sst\n",
       "4  A1-P1-DG_S103_L001_R1_001         DG      DG_Cck\n",
       "5  A1-P1-DG_S104_L001_R1_001         DG     DG_Penk"
      ]
     },
     "execution_count": 58,
     "metadata": {},
     "output_type": "execute_result"
    }
   ],
   "source": [
    "clusters.head()"
   ]
  },
  {
   "cell_type": "code",
   "execution_count": 59,
   "id": "048bb1ff",
   "metadata": {},
   "outputs": [
    {
     "data": {
      "text/plain": [
       "{'CA1', 'CA2', 'CA3', 'DG', 'Ependymal', 'GABAergic', 'Glia', 'Non'}"
      ]
     },
     "execution_count": 59,
     "metadata": {},
     "output_type": "execute_result"
    }
   ],
   "source": [
    "set(clusters['CLUSTER'])"
   ]
  },
  {
   "cell_type": "markdown",
   "id": "6de118f4",
   "metadata": {},
   "source": [
    "# Spectral clustering"
   ]
  },
  {
   "cell_type": "code",
   "execution_count": 60,
   "id": "39ff5b19",
   "metadata": {},
   "outputs": [],
   "source": [
    "sc=Gk_SpectralClustering(dataset=x,nb_clusters=6,sigma=100)"
   ]
  },
  {
   "cell_type": "code",
   "execution_count": 61,
   "id": "603e968d",
   "metadata": {},
   "outputs": [],
   "source": [
    "sc.compute_gram_matrix()"
   ]
  },
  {
   "cell_type": "code",
   "execution_count": 69,
   "id": "77bb042b",
   "metadata": {},
   "outputs": [],
   "source": [
    "c=sc.compute_clusters()"
   ]
  },
  {
   "cell_type": "code",
   "execution_count": 70,
   "id": "81f76622",
   "metadata": {},
   "outputs": [],
   "source": [
    "labels=clusters['CLUSTER']"
   ]
  },
  {
   "cell_type": "code",
   "execution_count": 72,
   "id": "e23c745e",
   "metadata": {},
   "outputs": [],
   "source": [
    "labels=np.array(labels)"
   ]
  },
  {
   "cell_type": "code",
   "execution_count": 73,
   "id": "b715471c",
   "metadata": {},
   "outputs": [
    {
     "data": {
      "text/plain": [
       "array(['DG', 'DG', 'GABAergic', ..., 'CA2', 'CA2', 'CA2'], dtype=object)"
      ]
     },
     "execution_count": 73,
     "metadata": {},
     "output_type": "execute_result"
    }
   ],
   "source": [
    "labels"
   ]
  },
  {
   "cell_type": "code",
   "execution_count": 75,
   "id": "81aed1df",
   "metadata": {},
   "outputs": [
    {
     "name": "stdout",
     "output_type": "stream",
     "text": [
      "0.20054986518781076\n"
     ]
    }
   ],
   "source": [
    "from sklearn.metrics import homogeneity_score, completeness_score\n",
    "\n",
    "print(homogeneity_score(labels,c))"
   ]
  },
  {
   "cell_type": "code",
   "execution_count": 77,
   "id": "8019a1ad",
   "metadata": {},
   "outputs": [
    {
     "name": "stdout",
     "output_type": "stream",
     "text": [
      "0.244387031079492\n"
     ]
    }
   ],
   "source": [
    "print(completeness_score(labels,c))"
   ]
  }
 ],
 "metadata": {
  "kernelspec": {
   "display_name": "Python 3",
   "language": "python",
   "name": "python3"
  },
  "language_info": {
   "codemirror_mode": {
    "name": "ipython",
    "version": 3
   },
   "file_extension": ".py",
   "mimetype": "text/x-python",
   "name": "python",
   "nbconvert_exporter": "python",
   "pygments_lexer": "ipython3",
   "version": "3.8.8"
  }
 },
 "nbformat": 4,
 "nbformat_minor": 5
}
