{
 "cells": [
  {
   "cell_type": "code",
   "execution_count": 1,
   "id": "c5a9b8bd",
   "metadata": {},
   "outputs": [],
   "source": [
    "# %load \"C:\\Users\\Ziyad\\Desktop\\Kernel_methods\\kernel.py\"\n",
    "from math import exp, sqrt\n",
    "import numpy.linalg as npl\n",
    "import numpy as np\n",
    "import matplotlib.pyplot as plt\n",
    "from sklearn.cluster import KMeans\n",
    "\n",
    "def Gk_image(x,t,sigma=1):\n",
    "    \"\"\"\n",
    "    For real vectors x and t returns their image by the\n",
    "    gaussian kernel\n",
    "    \n",
    "    Parameters\n",
    "    ----------\n",
    "    x : array like - 1D array\n",
    "    t : array like - 1D array\n",
    "    \n",
    "    Returns\n",
    "    -------\n",
    "    y : float\n",
    "\n",
    "    \"\"\"\n",
    "    y=exp(-npl.norm(x-t)**2/sigma**2)\n",
    "    \n",
    "    return y\n",
    "#--------------------------------------------------------\n",
    "\n",
    "def Gk_distance(x,y,sigma=1):\n",
    "    \"\"\"\n",
    "    for real vectors x and y computes the distance\n",
    "    between their images in the gaussian kernel Hilbert \n",
    "    space \n",
    "\n",
    "    Parameters\n",
    "    ----------\n",
    "    x : array like - 1D array\n",
    "    y : array like - 1D array\n",
    "\n",
    "    Returns\n",
    "    -------\n",
    "    d : float\n",
    "\n",
    "    \"\"\"\n",
    "    d=sqrt(2*(1-Gk_image(x,y,sigma)))\n",
    "    return d\n",
    "\n",
    "#--------------------------------------------------------\n",
    "\n",
    "def Gk_gram_matrix(x,sigma=1):\n",
    "    \"\"\"\n",
    "    for a dataset x return the matrix A that has for \n",
    "    entries A(i,j) = the image of the i line and the j\n",
    "    line by the gaussian kernel\n",
    "    \n",
    "    Parameters\n",
    "    ----------\n",
    "    x : array like - 2D array\n",
    "\n",
    "    Returns\n",
    "    -------\n",
    "    y : array like - 2D array\n",
    "\n",
    "    \"\"\"\n",
    "    (n,p)=x.shape\n",
    "    \n",
    "    y=np.zeros((n,n))\n",
    "    for i in range(n):\n",
    "        for j in range(i,n):\n",
    "            l=x[i,:]\n",
    "            m=x[j,:]\n",
    "            y[i][j]=Gk_image(l,m,sigma)\n",
    "    y=y + y.T - np.diag(y.diagonal())\n",
    "    return y\n",
    "\n",
    "#--------------------------------------------------------\n",
    "\n",
    "class Gk_PCA:\n",
    "    \n",
    "    \n",
    "    def __init__(self,dataset,sigma=1):\n",
    "        self.sigma=sigma\n",
    "        self.dataset=dataset\n",
    "        self.K=np.zeros(dataset.shape)\n",
    "        self.directions=[]\n",
    "        self.explained_variance=[]\n",
    "        \n",
    "    def compute_gram_matrix(self):\n",
    "        self.K=Gk_gram_matrix(self.dataset,self.sigma)\n",
    "        \n",
    "    def compute_directions(self):\n",
    "        \n",
    "        ## Centered Gram matrix\n",
    "        n=self.K.shape[0]\n",
    "        m=np.ones((n,n))/n\n",
    "        i=np.eye(n)\n",
    "        self.K_c=(i-m) @ self.K @ (i-m)\n",
    "        \n",
    "        ## Eigenvalues\n",
    "        w,v=npl.eigh(self.K_c)\n",
    "        order=np.argsort(-w)\n",
    "        w=w[order]\n",
    "        v=v[:,order]\n",
    "        i=0\n",
    "        while w[i]>=0:\n",
    "            if i<=n:\n",
    "                i=i+1\n",
    "            else:\n",
    "                break\n",
    "        w=w[0:i]\n",
    "        v=v[:,0:i]\n",
    "        \n",
    "        #Directions\n",
    "        D=np.zeros((n,i))\n",
    "        for j in range (i):\n",
    "            D[:,j]=v[:,j]/sqrt(w[j])\n",
    "        \n",
    "        self.directions=D\n",
    "        \n",
    "        #Explained_variance\n",
    "        for j in range (i):\n",
    "            self.explained_variance.append(1/n*D[:,j].T\n",
    "                @ self.K_c @ self.K_c @ D[:,j])\n",
    "        \n",
    "        \n",
    "        \n",
    "    def reduce(self):\n",
    "        return self.K_c @ self.directions\n",
    "    \n",
    "    def scree_plot(self):\n",
    "        x = np.arange(len(self.explained_variance))+1\n",
    "        plt.plot(x, self.explained_variance, 'o-', linewidth=2, color='blue')\n",
    "        plt.title('Scree Plot')\n",
    "        plt.xlabel('Principal Component')\n",
    "        plt.ylabel('Variance Explained')\n",
    "        plt.show()\n",
    "        \n",
    "    def plot(self):\n",
    "        x=self.reduce()\n",
    "        plt.scatter(x[:,0],x[:,1])\n",
    "        plt.xlabel('First component')\n",
    "        plt.ylabel('Second component')\n",
    "        plt.show()\n",
    "                \n",
    "            \n",
    "#--------------------------------------------------------\n",
    "\n",
    "class Gk_SpectralClustering :\n",
    "    \n",
    "    def __init__(self,nb_clusters,dataset,sigma=1):\n",
    "        self.k=nb_clusters\n",
    "        self.dataset=dataset\n",
    "        self.sigma=sigma\n",
    "        \n",
    "    def compute_gram_matrix(self):\n",
    "        self.K=Gk_gram_matrix(self.dataset,self.sigma)\n",
    "        \n",
    "    def compute_clusters(self):\n",
    "        ## Centered Gram matrix\n",
    "        n=self.K.shape[0]\n",
    "        m=np.ones((n,n))/n\n",
    "        i=np.eye(n)\n",
    "        self.K_c=(i-m) @ self.K @ (i-m)\n",
    "        \n",
    "        ## Eigenvalues\n",
    "        w,v=npl.eigh(self.K_c)\n",
    "        order=np.argsort(-w)\n",
    "        w=w[order]\n",
    "        v=v[:,order]\n",
    "        self.Z=v[:,0:self.k]\n",
    "        \n",
    "        ## Normalize Z\n",
    "        A=self.Z\n",
    "        norm=npl.norm(A,axis=1)\n",
    "        for i in range(n):\n",
    "            A[i,:]=A[i,:]/norm[i]\n",
    "        \n",
    "        ## Regular KMeans to A\n",
    "        km=KMeans(n_clusters=self.k)\n",
    "        return(km.fit_predict(A))"
   ]
  },
  {
   "cell_type": "markdown",
   "id": "4dd2b5a3",
   "metadata": {},
   "source": [
    "# Single nucleus RNA-seq of cell diversity in the adult mouse hippocampus (sNuc-Seq)"
   ]
  },
  {
   "cell_type": "markdown",
   "id": "81bcf809",
   "metadata": {},
   "source": [
    "## Importation des données "
   ]
  },
  {
   "cell_type": "code",
   "execution_count": 2,
   "id": "1a969255",
   "metadata": {},
   "outputs": [],
   "source": [
    "import pandas as pd"
   ]
  },
  {
   "cell_type": "code",
   "execution_count": 3,
   "id": "6b5b5ce2",
   "metadata": {},
   "outputs": [],
   "source": [
    "df=pd.read_csv(r\"C:\\Users\\Ziyad\\Desktop\\Kernel_methods\\Dataset\\Count_Matrix.txt\",index_col=0)"
   ]
  },
  {
   "cell_type": "code",
   "execution_count": 4,
   "id": "0c8c0eb4",
   "metadata": {},
   "outputs": [
    {
     "data": {
      "text/html": [
       "<div>\n",
       "<style scoped>\n",
       "    .dataframe tbody tr th:only-of-type {\n",
       "        vertical-align: middle;\n",
       "    }\n",
       "\n",
       "    .dataframe tbody tr th {\n",
       "        vertical-align: top;\n",
       "    }\n",
       "\n",
       "    .dataframe thead th {\n",
       "        text-align: right;\n",
       "    }\n",
       "</style>\n",
       "<table border=\"1\" class=\"dataframe\">\n",
       "  <thead>\n",
       "    <tr style=\"text-align: right;\">\n",
       "      <th></th>\n",
       "      <th>Itm2a</th>\n",
       "      <th>Sergef</th>\n",
       "      <th>Chil5</th>\n",
       "      <th>Fam109a</th>\n",
       "      <th>Dhx9</th>\n",
       "      <th>Ssu72</th>\n",
       "      <th>Olfr1018</th>\n",
       "      <th>Fam71e2</th>\n",
       "      <th>Eif2b2</th>\n",
       "      <th>1700061E18Rik</th>\n",
       "      <th>...</th>\n",
       "      <th>Itgb1bp2</th>\n",
       "      <th>Olfr372</th>\n",
       "      <th>Ctsw</th>\n",
       "      <th>Gosr1</th>\n",
       "      <th>Ryk</th>\n",
       "      <th>Rhd</th>\n",
       "      <th>Pxmp4</th>\n",
       "      <th>4930455C13Rik</th>\n",
       "      <th>Reg4</th>\n",
       "      <th>Prss39</th>\n",
       "    </tr>\n",
       "  </thead>\n",
       "  <tbody>\n",
       "    <tr>\n",
       "      <th>A1-P1-DG_S100_L001_R1_001</th>\n",
       "      <td>0.0</td>\n",
       "      <td>0.000000</td>\n",
       "      <td>0.0</td>\n",
       "      <td>0.000000</td>\n",
       "      <td>0.000000</td>\n",
       "      <td>154.934121</td>\n",
       "      <td>0.0</td>\n",
       "      <td>0.0</td>\n",
       "      <td>0.0</td>\n",
       "      <td>0.0</td>\n",
       "      <td>...</td>\n",
       "      <td>0.000000</td>\n",
       "      <td>0.0</td>\n",
       "      <td>0.0</td>\n",
       "      <td>0.000000</td>\n",
       "      <td>0.000000</td>\n",
       "      <td>0.0</td>\n",
       "      <td>24.878401</td>\n",
       "      <td>0.000000</td>\n",
       "      <td>0.0</td>\n",
       "      <td>0.0</td>\n",
       "    </tr>\n",
       "    <tr>\n",
       "      <th>A1-P1-DG_S101_L001_R1_001</th>\n",
       "      <td>0.0</td>\n",
       "      <td>1202.310018</td>\n",
       "      <td>0.0</td>\n",
       "      <td>0.000000</td>\n",
       "      <td>22.109337</td>\n",
       "      <td>0.000000</td>\n",
       "      <td>0.0</td>\n",
       "      <td>0.0</td>\n",
       "      <td>0.0</td>\n",
       "      <td>0.0</td>\n",
       "      <td>...</td>\n",
       "      <td>0.000000</td>\n",
       "      <td>0.0</td>\n",
       "      <td>0.0</td>\n",
       "      <td>1053.633557</td>\n",
       "      <td>0.000000</td>\n",
       "      <td>0.0</td>\n",
       "      <td>0.000000</td>\n",
       "      <td>0.000000</td>\n",
       "      <td>0.0</td>\n",
       "      <td>0.0</td>\n",
       "    </tr>\n",
       "    <tr>\n",
       "      <th>A1-P1-DG_S102_L001_R1_001</th>\n",
       "      <td>0.0</td>\n",
       "      <td>0.000000</td>\n",
       "      <td>0.0</td>\n",
       "      <td>67.020598</td>\n",
       "      <td>99.384881</td>\n",
       "      <td>625.780706</td>\n",
       "      <td>0.0</td>\n",
       "      <td>0.0</td>\n",
       "      <td>0.0</td>\n",
       "      <td>0.0</td>\n",
       "      <td>...</td>\n",
       "      <td>0.000000</td>\n",
       "      <td>0.0</td>\n",
       "      <td>0.0</td>\n",
       "      <td>0.000000</td>\n",
       "      <td>0.000000</td>\n",
       "      <td>0.0</td>\n",
       "      <td>0.000000</td>\n",
       "      <td>0.000000</td>\n",
       "      <td>0.0</td>\n",
       "      <td>0.0</td>\n",
       "    </tr>\n",
       "    <tr>\n",
       "      <th>A1-P1-DG_S103_L001_R1_001</th>\n",
       "      <td>0.0</td>\n",
       "      <td>1828.040670</td>\n",
       "      <td>0.0</td>\n",
       "      <td>0.000000</td>\n",
       "      <td>0.000000</td>\n",
       "      <td>0.000000</td>\n",
       "      <td>0.0</td>\n",
       "      <td>0.0</td>\n",
       "      <td>0.0</td>\n",
       "      <td>0.0</td>\n",
       "      <td>...</td>\n",
       "      <td>0.000000</td>\n",
       "      <td>0.0</td>\n",
       "      <td>0.0</td>\n",
       "      <td>0.000000</td>\n",
       "      <td>0.000000</td>\n",
       "      <td>0.0</td>\n",
       "      <td>0.000000</td>\n",
       "      <td>0.000000</td>\n",
       "      <td>0.0</td>\n",
       "      <td>0.0</td>\n",
       "    </tr>\n",
       "    <tr>\n",
       "      <th>A1-P1-DG_S104_L001_R1_001</th>\n",
       "      <td>0.0</td>\n",
       "      <td>900.544878</td>\n",
       "      <td>0.0</td>\n",
       "      <td>0.000000</td>\n",
       "      <td>61.436247</td>\n",
       "      <td>0.000000</td>\n",
       "      <td>0.0</td>\n",
       "      <td>0.0</td>\n",
       "      <td>0.0</td>\n",
       "      <td>0.0</td>\n",
       "      <td>...</td>\n",
       "      <td>1119.905964</td>\n",
       "      <td>0.0</td>\n",
       "      <td>0.0</td>\n",
       "      <td>0.000000</td>\n",
       "      <td>597.049485</td>\n",
       "      <td>0.0</td>\n",
       "      <td>51.676338</td>\n",
       "      <td>149.157083</td>\n",
       "      <td>0.0</td>\n",
       "      <td>0.0</td>\n",
       "    </tr>\n",
       "  </tbody>\n",
       "</table>\n",
       "<p>5 rows × 25392 columns</p>\n",
       "</div>"
      ],
      "text/plain": [
       "                           Itm2a       Sergef  Chil5    Fam109a       Dhx9  \\\n",
       "A1-P1-DG_S100_L001_R1_001    0.0     0.000000    0.0   0.000000   0.000000   \n",
       "A1-P1-DG_S101_L001_R1_001    0.0  1202.310018    0.0   0.000000  22.109337   \n",
       "A1-P1-DG_S102_L001_R1_001    0.0     0.000000    0.0  67.020598  99.384881   \n",
       "A1-P1-DG_S103_L001_R1_001    0.0  1828.040670    0.0   0.000000   0.000000   \n",
       "A1-P1-DG_S104_L001_R1_001    0.0   900.544878    0.0   0.000000  61.436247   \n",
       "\n",
       "                                Ssu72  Olfr1018  Fam71e2  Eif2b2  \\\n",
       "A1-P1-DG_S100_L001_R1_001  154.934121       0.0      0.0     0.0   \n",
       "A1-P1-DG_S101_L001_R1_001    0.000000       0.0      0.0     0.0   \n",
       "A1-P1-DG_S102_L001_R1_001  625.780706       0.0      0.0     0.0   \n",
       "A1-P1-DG_S103_L001_R1_001    0.000000       0.0      0.0     0.0   \n",
       "A1-P1-DG_S104_L001_R1_001    0.000000       0.0      0.0     0.0   \n",
       "\n",
       "                           1700061E18Rik  ...     Itgb1bp2  Olfr372  Ctsw  \\\n",
       "A1-P1-DG_S100_L001_R1_001            0.0  ...     0.000000      0.0   0.0   \n",
       "A1-P1-DG_S101_L001_R1_001            0.0  ...     0.000000      0.0   0.0   \n",
       "A1-P1-DG_S102_L001_R1_001            0.0  ...     0.000000      0.0   0.0   \n",
       "A1-P1-DG_S103_L001_R1_001            0.0  ...     0.000000      0.0   0.0   \n",
       "A1-P1-DG_S104_L001_R1_001            0.0  ...  1119.905964      0.0   0.0   \n",
       "\n",
       "                                 Gosr1         Ryk  Rhd      Pxmp4  \\\n",
       "A1-P1-DG_S100_L001_R1_001     0.000000    0.000000  0.0  24.878401   \n",
       "A1-P1-DG_S101_L001_R1_001  1053.633557    0.000000  0.0   0.000000   \n",
       "A1-P1-DG_S102_L001_R1_001     0.000000    0.000000  0.0   0.000000   \n",
       "A1-P1-DG_S103_L001_R1_001     0.000000    0.000000  0.0   0.000000   \n",
       "A1-P1-DG_S104_L001_R1_001     0.000000  597.049485  0.0  51.676338   \n",
       "\n",
       "                           4930455C13Rik  Reg4  Prss39  \n",
       "A1-P1-DG_S100_L001_R1_001       0.000000   0.0     0.0  \n",
       "A1-P1-DG_S101_L001_R1_001       0.000000   0.0     0.0  \n",
       "A1-P1-DG_S102_L001_R1_001       0.000000   0.0     0.0  \n",
       "A1-P1-DG_S103_L001_R1_001       0.000000   0.0     0.0  \n",
       "A1-P1-DG_S104_L001_R1_001     149.157083   0.0     0.0  \n",
       "\n",
       "[5 rows x 25392 columns]"
      ]
     },
     "execution_count": 4,
     "metadata": {},
     "output_type": "execute_result"
    }
   ],
   "source": [
    "df.head()"
   ]
  },
  {
   "cell_type": "code",
   "execution_count": 5,
   "id": "3b57097d",
   "metadata": {},
   "outputs": [],
   "source": [
    "x=df.to_numpy()"
   ]
  },
  {
   "cell_type": "code",
   "execution_count": 59,
   "id": "2efcefd0",
   "metadata": {},
   "outputs": [
    {
     "name": "stdout",
     "output_type": "stream",
     "text": [
      "(1402, 25392)\n"
     ]
    }
   ],
   "source": [
    "print(x.shape)"
   ]
  },
  {
   "cell_type": "code",
   "execution_count": 58,
   "id": "b5a9857b",
   "metadata": {},
   "outputs": [
    {
     "name": "stdout",
     "output_type": "stream",
     "text": [
      "1402\n"
     ]
    }
   ],
   "source": [
    "print(x.shape[0])"
   ]
  },
  {
   "cell_type": "markdown",
   "id": "ab78c55a",
   "metadata": {},
   "source": [
    "## Choix du paramètre du noyau gaussien"
   ]
  },
  {
   "cell_type": "markdown",
   "id": "80b5ae1e",
   "metadata": {},
   "source": [
    "On choisira la médiane des distances entre les observations."
   ]
  },
  {
   "cell_type": "code",
   "execution_count": 12,
   "id": "932d0ccf",
   "metadata": {},
   "outputs": [],
   "source": [
    "v=[]\n",
    "for i in range(1402):\n",
    "    for j in range(i+1,1402):\n",
    "            v.append(np.linalg.norm(x[i]-x[j]))"
   ]
  },
  {
   "cell_type": "code",
   "execution_count": 57,
   "id": "ea036de6",
   "metadata": {},
   "outputs": [
    {
     "name": "stdout",
     "output_type": "stream",
     "text": [
      "148258.84720953368\n"
     ]
    }
   ],
   "source": [
    "sig=np.median(v)\n",
    "print(sig)"
   ]
  },
  {
   "cell_type": "markdown",
   "id": "ac6ef708",
   "metadata": {},
   "source": [
    "## Kernel PCA"
   ]
  },
  {
   "cell_type": "code",
   "execution_count": 18,
   "id": "ce5877b0",
   "metadata": {},
   "outputs": [],
   "source": [
    "my_pca=Gk_PCA(dataset=x,sigma=sig)"
   ]
  },
  {
   "cell_type": "code",
   "execution_count": 19,
   "id": "f86459d0",
   "metadata": {},
   "outputs": [],
   "source": [
    "import time\n",
    "t1=time.time()\n",
    "my_pca.compute_gram_matrix()\n",
    "t2=time.time()"
   ]
  },
  {
   "cell_type": "code",
   "execution_count": 56,
   "id": "635dc8b0",
   "metadata": {},
   "outputs": [
    {
     "name": "stdout",
     "output_type": "stream",
     "text": [
      "338.54512429237366\n"
     ]
    }
   ],
   "source": [
    "print(t2-t1)"
   ]
  },
  {
   "cell_type": "markdown",
   "id": "18e98541",
   "metadata": {},
   "source": [
    "Le calcul de la matrice de Gram prend entre 5 et 6 minutes.\n",
    "\n",
    "Affichons la matrice :"
   ]
  },
  {
   "cell_type": "code",
   "execution_count": 55,
   "id": "c9389345",
   "metadata": {},
   "outputs": [
    {
     "name": "stdout",
     "output_type": "stream",
     "text": [
      "[[1.         0.58628962 0.21141582 ... 0.61426899 0.588176   0.60956258]\n",
      " [0.58628962 1.         0.20923996 ... 0.53586678 0.49172997 0.50293011]\n",
      " [0.21141582 0.20923996 1.         ... 0.25257234 0.26445948 0.27680821]\n",
      " ...\n",
      " [0.61426899 0.53586678 0.25257234 ... 1.         0.75447369 0.75255885]\n",
      " [0.588176   0.49172997 0.26445948 ... 0.75447369 1.         0.74382013]\n",
      " [0.60956258 0.50293011 0.27680821 ... 0.75255885 0.74382013 1.        ]]\n"
     ]
    }
   ],
   "source": [
    "print(my_pca.K)"
   ]
  },
  {
   "cell_type": "code",
   "execution_count": 60,
   "id": "c5c0c9cd",
   "metadata": {},
   "outputs": [
    {
     "name": "stdout",
     "output_type": "stream",
     "text": [
      "(1402, 1402)\n"
     ]
    }
   ],
   "source": [
    "print(my_pca.K.shape)"
   ]
  },
  {
   "cell_type": "code",
   "execution_count": 23,
   "id": "7223cd12",
   "metadata": {},
   "outputs": [],
   "source": [
    "my_pca.compute_directions()"
   ]
  },
  {
   "cell_type": "code",
   "execution_count": 35,
   "id": "8bae9e9e",
   "metadata": {},
   "outputs": [],
   "source": [
    "r=my_pca.reduce()"
   ]
  },
  {
   "cell_type": "code",
   "execution_count": 25,
   "id": "db388862",
   "metadata": {},
   "outputs": [
    {
     "data": {
      "image/png": "[encoded data removed]",
      "text/plain": [
       "<Figure size 432x288 with 1 Axes>"
      ]
     },
     "metadata": {
      "needs_background": "light"
     },
     "output_type": "display_data"
    }
   ],
   "source": [
    "my_pca.scree_plot()"
   ]
  },
  {
   "cell_type": "code",
   "execution_count": 26,
   "id": "1f6b42f4",
   "metadata": {},
   "outputs": [
    {
     "data": {
      "image/png": "[encoded data removed]",
      "text/plain": [
       "<Figure size 432x288 with 1 Axes>"
      ]
     },
     "metadata": {
      "needs_background": "light"
     },
     "output_type": "display_data"
    }
   ],
   "source": [
    "my_pca.plot()"
   ]
  },
  {
   "cell_type": "markdown",
   "id": "01804a72",
   "metadata": {},
   "source": [
    "## Visualisation des clusters dans le plan factoriel"
   ]
  },
  {
   "cell_type": "code",
   "execution_count": 27,
   "id": "80ae5fdc",
   "metadata": {},
   "outputs": [],
   "source": [
    "clusters=pd.read_csv(r\"C:\\Users\\Ziyad\\Desktop\\Kernel_methods\\Dataset\\CLUSTER_AND_SUBCLUSTER_INDEX.txt\",delim_whitespace=True)"
   ]
  },
  {
   "cell_type": "code",
   "execution_count": 28,
   "id": "83fe1a05",
   "metadata": {},
   "outputs": [],
   "source": [
    "clusters=clusters.drop(labels=0)"
   ]
  },
  {
   "cell_type": "code",
   "execution_count": 63,
   "id": "f9957109",
   "metadata": {},
   "outputs": [
    {
     "data": {
      "text/html": [
       "<div>\n",
       "<style scoped>\n",
       "    .dataframe tbody tr th:only-of-type {\n",
       "        vertical-align: middle;\n",
       "    }\n",
       "\n",
       "    .dataframe tbody tr th {\n",
       "        vertical-align: top;\n",
       "    }\n",
       "\n",
       "    .dataframe thead th {\n",
       "        text-align: right;\n",
       "    }\n",
       "</style>\n",
       "<table border=\"1\" class=\"dataframe\">\n",
       "  <thead>\n",
       "    <tr style=\"text-align: right;\">\n",
       "      <th></th>\n",
       "      <th>NAME</th>\n",
       "      <th>CLUSTER</th>\n",
       "      <th>SUB-CLUSTER</th>\n",
       "    </tr>\n",
       "  </thead>\n",
       "  <tbody>\n",
       "    <tr>\n",
       "      <th>1</th>\n",
       "      <td>A1-P1-DG_S100_L001_R1_001</td>\n",
       "      <td>DG</td>\n",
       "      <td>DG_Penk</td>\n",
       "    </tr>\n",
       "    <tr>\n",
       "      <th>2</th>\n",
       "      <td>A1-P1-DG_S101_L001_R1_001</td>\n",
       "      <td>DG</td>\n",
       "      <td>DG_Cck</td>\n",
       "    </tr>\n",
       "    <tr>\n",
       "      <th>3</th>\n",
       "      <td>A1-P1-DG_S102_L001_R1_001</td>\n",
       "      <td>GABAergic</td>\n",
       "      <td>Gad2_Sst</td>\n",
       "    </tr>\n",
       "    <tr>\n",
       "      <th>4</th>\n",
       "      <td>A1-P1-DG_S103_L001_R1_001</td>\n",
       "      <td>DG</td>\n",
       "      <td>DG_Cck</td>\n",
       "    </tr>\n",
       "    <tr>\n",
       "      <th>5</th>\n",
       "      <td>A1-P1-DG_S104_L001_R1_001</td>\n",
       "      <td>DG</td>\n",
       "      <td>DG_Penk</td>\n",
       "    </tr>\n",
       "  </tbody>\n",
       "</table>\n",
       "</div>"
      ],
      "text/plain": [
       "                        NAME    CLUSTER SUB-CLUSTER\n",
       "1  A1-P1-DG_S100_L001_R1_001         DG     DG_Penk\n",
       "2  A1-P1-DG_S101_L001_R1_001         DG      DG_Cck\n",
       "3  A1-P1-DG_S102_L001_R1_001  GABAergic    Gad2_Sst\n",
       "4  A1-P1-DG_S103_L001_R1_001         DG      DG_Cck\n",
       "5  A1-P1-DG_S104_L001_R1_001         DG     DG_Penk"
      ]
     },
     "execution_count": 63,
     "metadata": {},
     "output_type": "execute_result"
    }
   ],
   "source": [
    "clusters.head()"
   ]
  },
  {
   "cell_type": "code",
   "execution_count": 61,
   "id": "048bb1ff",
   "metadata": {},
   "outputs": [
    {
     "name": "stdout",
     "output_type": "stream",
     "text": [
      "['Ependymal', 'CA2', 'GABAergic', 'Non', 'DG', 'Glia', 'CA1', 'CA3']\n"
     ]
    }
   ],
   "source": [
    "cluster_list=list(set(clusters['CLUSTER']))\n",
    "print(cluster_list)"
   ]
  },
  {
   "cell_type": "code",
   "execution_count": 31,
   "id": "166bba9d",
   "metadata": {},
   "outputs": [],
   "source": [
    "labels=clusters['CLUSTER']"
   ]
  },
  {
   "cell_type": "code",
   "execution_count": 40,
   "id": "5bbc6497",
   "metadata": {},
   "outputs": [],
   "source": [
    "l=np.array(labels)\n",
    "cl=[]\n",
    "for i in l:\n",
    "    cl.append(cluster_list.index(i))"
   ]
  },
  {
   "cell_type": "code",
   "execution_count": 42,
   "id": "31f3e809",
   "metadata": {},
   "outputs": [
    {
     "data": {
      "image/png": "[encoded data removed]",
      "text/plain": [
       "<Figure size 432x288 with 1 Axes>"
      ]
     },
     "metadata": {
      "needs_background": "light"
     },
     "output_type": "display_data"
    }
   ],
   "source": [
    "plt.scatter(r[:,0],r[:,1],c=cl);"
   ]
  },
  {
   "cell_type": "markdown",
   "id": "6de118f4",
   "metadata": {},
   "source": [
    "## Spectral clustering"
   ]
  },
  {
   "cell_type": "code",
   "execution_count": 45,
   "id": "39ff5b19",
   "metadata": {},
   "outputs": [],
   "source": [
    "sc=Gk_SpectralClustering(dataset=x,nb_clusters=6,sigma=sig)"
   ]
  },
  {
   "cell_type": "code",
   "execution_count": 46,
   "id": "603e968d",
   "metadata": {},
   "outputs": [],
   "source": [
    "sc.compute_gram_matrix()"
   ]
  },
  {
   "cell_type": "code",
   "execution_count": 47,
   "id": "77bb042b",
   "metadata": {},
   "outputs": [],
   "source": [
    "c=sc.compute_clusters()"
   ]
  },
  {
   "cell_type": "code",
   "execution_count": 53,
   "id": "81aed1df",
   "metadata": {},
   "outputs": [
    {
     "name": "stdout",
     "output_type": "stream",
     "text": [
      "0.43408329744812746\n"
     ]
    }
   ],
   "source": [
    "from sklearn.metrics import homogeneity_score, completeness_score\n",
    "\n",
    "print(homogeneity_score(l,c))"
   ]
  },
  {
   "cell_type": "code",
   "execution_count": 54,
   "id": "8019a1ad",
   "metadata": {},
   "outputs": [
    {
     "name": "stdout",
     "output_type": "stream",
     "text": [
      "0.40090339718998025\n"
     ]
    }
   ],
   "source": [
    "print(completeness_score(l,c))"
   ]
  },
  {
   "cell_type": "markdown",
   "id": "54cd50f9",
   "metadata": {},
   "source": [
    "Les performances de l'algorithme ne sont impressionnantes."
   ]
  },
  {
   "cell_type": "markdown",
   "id": "cf9250ab",
   "metadata": {},
   "source": [
    "# Toy dataset"
   ]
  },
  {
   "cell_type": "markdown",
   "id": "5992d0e2",
   "metadata": {},
   "source": [
    "Appliquons nos fonctions pour des données issues du mélange de deux gaussiennes."
   ]
  },
  {
   "cell_type": "code",
   "execution_count": 64,
   "id": "d2d96022",
   "metadata": {},
   "outputs": [],
   "source": [
    "from sklearn.datasets import make_blobs\n",
    "\n",
    "dataset=make_blobs(n_samples=1000,n_features=20000,centers=2,cluster_std=2)"
   ]
  },
  {
   "cell_type": "code",
   "execution_count": null,
   "id": "42aa0f3d",
   "metadata": {},
   "outputs": [],
   "source": []
  }
 ],
 "metadata": {
  "kernelspec": {
   "display_name": "Python 3",
   "language": "python",
   "name": "python3"
  },
  "language_info": {
   "codemirror_mode": {
    "name": "ipython",
    "version": 3
   },
   "file_extension": ".py",
   "mimetype": "text/x-python",
   "name": "python",
   "nbconvert_exporter": "python",
   "pygments_lexer": "ipython3",
   "version": "3.8.8"
  }
 },
 "nbformat": 4,
 "nbformat_minor": 5
}
